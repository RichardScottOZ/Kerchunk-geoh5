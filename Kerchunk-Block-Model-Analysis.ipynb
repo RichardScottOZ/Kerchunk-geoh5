{
 "cells": [
  {
   "cell_type": "code",
   "execution_count": 1,
   "id": "59e2288e",
   "metadata": {},
   "outputs": [],
   "source": [
    "import os\n",
    "\n",
    "import numpy as np\n",
    "import zarr\n",
    "import xarray as xr\n",
    "import h5py\n",
    "import s3fs\n",
    "import geoh5py\n",
    "from geoh5py.workspace import Workspace\n",
    "\n",
    "import fsspec\n",
    "\n",
    "import kerchunk.hdf\n",
    "from kerchunk.hdf import SingleHdf5ToZarr\n",
    "\n",
    "import configparser\n",
    "import contextlib\n",
    "\n",
    "import pyvista as pv\n",
    "import pandas as pd\n",
    "from matplotlib import cm\n",
    "from matplotlib.colors import ListedColormap, LinearSegmentedColormap\n",
    "\n",
    "from tqdm import tqdm\n",
    "import pickle\n",
    "\n"
   ]
  },
  {
   "cell_type": "markdown",
   "id": "793d2c4c",
   "metadata": {},
   "source": [
    "## Preparation"
   ]
  },
  {
   "cell_type": "markdown",
   "id": "4663823a",
   "metadata": {},
   "source": [
    "To make the files to enable this analysis, the excellent Shepard framework was used to set up AWS Batch.\n",
    "\n",
    "https://github.com/ginkgobioworks/shepard\n",
    "\n",
    "I needed to run approximately one hundred thousand jobs to do this.\n",
    "    \n",
    "Basically, you upload a file with information to the s3 bucket for shepard - the location of the Geoscience Analyst .geoh5 file.    \n",
    "\n",
    "The Dockerfile setup for this is included in the repository."
   ]
  },
  {
   "cell_type": "markdown",
   "id": "9275a1bd",
   "metadata": {},
   "source": [
    "The code to do this"
   ]
  },
  {
   "cell_type": "code",
   "execution_count": null,
   "id": "135aa2b3",
   "metadata": {},
   "outputs": [],
   "source": [
    "    \n",
    "import os\n",
    "import fsspec\n",
    "import s3fs\n",
    "import json\n",
    "\n",
    "from kerchunk.hdf import SingleHdf5ToZarr\n",
    "import kerchunk.hdf\n",
    "\n",
    "root_input_name = os.getenv('ROOT_INPUT_NAME')\n",
    "input_zip_name = os.getenv('INPUT_ZIP_NAME')\n",
    "tag = os.getenv('tag')\n",
    "key = os.getenv('BANASPLITS-NUMBER') #file to get\n",
    "root_output_name = os.getenv('ROOT_OUTPUT_NAME')\n",
    "\n",
    "s3 = s3fs.S3FileSystem(anon=False, key='ACCESS_KEY', secret='SECRET_ACCESS_KEY')\n",
    "\n",
    "urls = [\"s3://\" + p for p in [\n",
    "    'Banana-Splits' + key + '.geoh5'\n",
    "]]\n",
    "so = dict(\n",
    "    anon=False, default_fill_cache=False, default_cache_type='first'\n",
    ")\n",
    "singles = []\n",
    "for u in urls:\n",
    "    with s3.open(u, **so) as inf:\n",
    "        h5chunks = kerchunk.hdf.SingleHdf5ToZarr(inf, u, inline_threshold=100)\n",
    "        singles.append(h5chunks.translate())\n",
    "\n",
    "print(singles)\n",
    "\n",
    "with open(os.path.join(root_output_name, key + '.json'),'w') as f:\n",
    "    json.dump(singles[0], f)\n",
    "\n",
    "print(\"FINISHED!\")"
   ]
  },
  {
   "cell_type": "code",
   "execution_count": 3,
   "id": "2f3c4f05",
   "metadata": {},
   "outputs": [],
   "source": [
    "def get_aws_credentials():\n",
    "    parser = configparser.RawConfigParser()\n",
    "    parser.read(os.path.expanduser('~/.aws/credentials'))\n",
    "    credentials = parser.items('bananasplits')\n",
    "    all_credentials = {key.upper(): value for key, value in [*credentials]}\n",
    "    with contextlib.suppress(KeyError):\n",
    "        all_credentials[\"AWS_REGION\"] = all_credentials.pop(\"REGION\")\n",
    "    return all_credentials\n",
    "\n",
    "creds = get_aws_credentials()"
   ]
  },
  {
   "cell_type": "code",
   "execution_count": null,
   "id": "6ce35a99",
   "metadata": {},
   "outputs": [],
   "source": [
    "All the output json files for kerchunk get returned to an output bucket"
   ]
  },
  {
   "cell_type": "code",
   "execution_count": 4,
   "id": "251d8b48",
   "metadata": {},
   "outputs": [],
   "source": [
    "s3 = s3fs.S3FileSystem(profile='bananasplits')\n",
    "\n",
    "r_opts = {\n",
    "    \"key\": creds['AWS_ACCESS_KEY_ID'],\n",
    "    \"secret\": creds['AWS_SECRET_ACCESS_KEY'],\n",
    "    \"client_kwargs\": {\"region_name\": \"us-west-2\"},\n",
    "}\n",
    "\n",
    "m = fsspec.get_mapper(\"reference://\", fo=r'F:\\BananaSplits\\42023.json', remote_protocol=\"s3\", remote_options=r_opts)\n",
    "z = zarr.open(m)"
   ]
  },
  {
   "cell_type": "code",
   "execution_count": 6,
   "id": "da9fac84",
   "metadata": {},
   "outputs": [
    {
     "data": {
      "text/html": [
       "<table class=\"zarr-info\"><tbody><tr><th style=\"text-align: left\">Name</th><td style=\"text-align: left\">/</td></tr><tr><th style=\"text-align: left\">Type</th><td style=\"text-align: left\">zarr.hierarchy.Group</td></tr><tr><th style=\"text-align: left\">Read-only</th><td style=\"text-align: left\">False</td></tr><tr><th style=\"text-align: left\">Store type</th><td style=\"text-align: left\">fsspec.mapping.FSMap</td></tr><tr><th style=\"text-align: left\">No. members</th><td style=\"text-align: left\">1</td></tr><tr><th style=\"text-align: left\">No. arrays</th><td style=\"text-align: left\">0</td></tr><tr><th style=\"text-align: left\">No. groups</th><td style=\"text-align: left\">1</td></tr><tr><th style=\"text-align: left\">Groups</th><td style=\"text-align: left\">GEOSCIENCE</td></tr></tbody></table>"
      ],
      "text/plain": [
       "Name        : /\n",
       "Type        : zarr.hierarchy.Group\n",
       "Read-only   : False\n",
       "Store type  : fsspec.mapping.FSMap\n",
       "No. members : 1\n",
       "No. arrays  : 0\n",
       "No. groups  : 1\n",
       "Groups      : GEOSCIENCE"
      ]
     },
     "execution_count": 6,
     "metadata": {},
     "output_type": "execute_result"
    }
   ],
   "source": [
    "z.info"
   ]
  },
  {
   "cell_type": "code",
   "execution_count": 17,
   "id": "94c09ef1",
   "metadata": {},
   "outputs": [
    {
     "name": "stdout",
     "output_type": "stream",
     "text": [
      "GEOSCIENCE\n"
     ]
    }
   ],
   "source": [
    "for name in z:\n",
    "    print(name)"
   ]
  },
  {
   "cell_type": "code",
   "execution_count": 19,
   "id": "44b84766",
   "metadata": {},
   "outputs": [
    {
     "data": {
      "text/plain": [
       "<zarr.hierarchy.Group '/GEOSCIENCE'>"
      ]
     },
     "execution_count": 19,
     "metadata": {},
     "output_type": "execute_result"
    }
   ],
   "source": [
    "z['GEOSCIENCE']"
   ]
  },
  {
   "cell_type": "code",
   "execution_count": 20,
   "id": "e5b2a533",
   "metadata": {},
   "outputs": [
    {
     "data": {
      "text/html": [
       "<table class=\"zarr-info\"><tbody><tr><th style=\"text-align: left\">Name</th><td style=\"text-align: left\">/GEOSCIENCE</td></tr><tr><th style=\"text-align: left\">Type</th><td style=\"text-align: left\">zarr.hierarchy.Group</td></tr><tr><th style=\"text-align: left\">Read-only</th><td style=\"text-align: left\">False</td></tr><tr><th style=\"text-align: left\">Store type</th><td style=\"text-align: left\">fsspec.mapping.FSMap</td></tr><tr><th style=\"text-align: left\">No. members</th><td style=\"text-align: left\">4</td></tr><tr><th style=\"text-align: left\">No. arrays</th><td style=\"text-align: left\">0</td></tr><tr><th style=\"text-align: left\">No. groups</th><td style=\"text-align: left\">4</td></tr><tr><th style=\"text-align: left\">Groups</th><td style=\"text-align: left\">Data, Groups, Objects, Types</td></tr></tbody></table>"
      ],
      "text/plain": [
       "Name        : /GEOSCIENCE\n",
       "Type        : zarr.hierarchy.Group\n",
       "Read-only   : False\n",
       "Store type  : fsspec.mapping.FSMap\n",
       "No. members : 4\n",
       "No. arrays  : 0\n",
       "No. groups  : 4\n",
       "Groups      : Data, Groups, Objects, Types"
      ]
     },
     "execution_count": 20,
     "metadata": {},
     "output_type": "execute_result"
    }
   ],
   "source": [
    "z['GEOSCIENCE'].info"
   ]
  },
  {
   "cell_type": "code",
   "execution_count": 21,
   "id": "67659959",
   "metadata": {},
   "outputs": [
    {
     "data": {
      "text/html": [
       "<table class=\"zarr-info\"><tbody><tr><th style=\"text-align: left\">Name</th><td style=\"text-align: left\">/GEOSCIENCE/Data</td></tr><tr><th style=\"text-align: left\">Type</th><td style=\"text-align: left\">zarr.hierarchy.Group</td></tr><tr><th style=\"text-align: left\">Read-only</th><td style=\"text-align: left\">False</td></tr><tr><th style=\"text-align: left\">Store type</th><td style=\"text-align: left\">fsspec.mapping.FSMap</td></tr><tr><th style=\"text-align: left\">No. members</th><td style=\"text-align: left\">164</td></tr><tr><th style=\"text-align: left\">No. arrays</th><td style=\"text-align: left\">0</td></tr><tr><th style=\"text-align: left\">No. groups</th><td style=\"text-align: left\">164</td></tr><tr><th style=\"text-align: left\">Groups</th><td style=\"text-align: left\">{00e6c2c7-eefe-4618-b9e6-3fc08177b96b}, {025ac2f5-7bc7-4e59-a489-0c337d8b40f9}, {033923cb-ca1d-4a38-ab2d-efe79c8aec75}, {04e8731c-7a1a-4892-821e-8503de0f88b4}, {069c898e-553c-400e-8b3f-06e6103dfb73}, {06f97b0b-80a1-4ba9-9cb2-df10e77ca0e4}, {0aab3744-f5fb-4425-aa48-28e08c832a74}, {0b3c983a-bc93-479b-b115-5e1fabfa2547}, {0bc10125-95ed-45c4-bdde-4a229f80f127}, {0e12eee0-20af-4fdd-b1af-f59a88f21112}, {109b38b4-ce97-46c1-86e5-a474e034a8af}, {1231dc31-2708-4d69-96ec-b71f2333f0c7}, {12f1d3df-4067-4595-9a5c-3a0624444f93}, {13cbfd16-70a3-4b92-97ad-ac5ee1650071}, {17636e0d-eeb7-4eaa-a0d0-948c70a13a99}, {18d0afff-3053-447c-a978-960c550c7bb0}, {193447e1-bab7-42ba-a9f6-f1d359850d27}, {1c305355-960a-4273-830b-8eb67e3d0bbb}, {1ca2ea4a-0c09-4b7b-9ae3-133e54a06ccf}, {1ea96c38-58e7-4d7f-acef-dd674024445e}, {2025c3ec-2e14-4fae-9d6d-5683c0332740}, {22520f8c-5247-49ba-905f-23e0bf92384d}, {226a6375-984c-4c7f-8aaf-d727f9ad9d7f}, {23c18a48-be93-4010-b354-ceb057bd8712}, {24001da4-5ea6-4574-a288-2f52108ca5aa}, {25b66db6-a1c9-4994-8533-4749d76c8c55}, {26824c05-6992-4024-9dae-46129d723ac3}, {28a77cdd-a024-45a9-9d03-2fbb786e0aaa}, {28aefc21-3778-4dc1-8b25-63bb6f4e13ad}, {290117af-aa4f-452b-bcc9-47a349d20666}, {2b862ea1-ea82-443d-bfa4-7cfcf8420001}, {2c74c39d-8971-48fa-8014-66bbd794dd60}, {2ca89aaa-a906-49d7-bb63-7e53acb4eb44}, {2d0c1fbe-5649-40bd-8b77-86a5b3011ee4}, {2f5fcd4b-865b-4403-86fd-709fa4a3285e}, {2f768724-f035-4470-8e88-feec32e90d25}, {31478a65-46e5-4d18-8bec-c7542e0641a0}, {3158da0d-0159-47f4-81a4-dd11a66fedad}, {326b7a7f-3ea3-4e12-986b-458f22ed4006}, {38017109-cae5-4574-902c-7aa35e13775a}, {3b3a04ad-1ee4-4d98-a903-8708befca202}, {3be07179-30c9-4455-9e84-8706aa11f7f7}, {3c9050ce-fa4c-4b19-ad6f-1d9dc1262725}, {3f0d56d1-9e16-4fe7-9e76-6c303d68ef0b}, {3fe2ffb8-d2a7-49f5-b9ef-aeb1341e94dc}, {42d17a4d-1a78-4dbd-bfbb-97edcedb10c2}, {43282a8f-8a05-4199-b9d2-475e9ffef5ae}, {4389f6e9-39b1-4702-9b1b-9c373b62b5ab}, {452ae902-926a-4024-84d7-666368fad120}, {45728055-d3c5-4c8a-9055-f9c43fb695ed}, {4584383c-c504-44c1-992e-e3c130aba627}, {49bf2f3f-d72f-421a-9562-23ca29b8596b}, {4b12b0b9-ed53-4bb5-8fa6-a4cd54ae629e}, {4c26bb3a-6671-4479-92d3-ceeaabc10d95}, {4dc7abea-2dc5-4405-b5e7-392a7a8b8255}, {5119b52e-4d7f-4ca0-93e6-125be021daba}, {5273f614-da35-4eab-b9b1-b0ead597bfc7}, {5366abc1-b0e1-4acc-a3a2-5898f43aad99}, {5462f485-c3b6-4062-a9da-7859d766d416}, {5474992e-9351-40ac-8ba0-a7e663bbbdd6}, {549c3071-830f-47d6-a6ad-e10c425a6488}, {55bbe6cd-fdf0-4edd-9594-d66fece51657}, {58ae4583-567b-4281-92c4-ed20bc60a73e}, {5acd4af9-680d-4903-a5fd-a93e84987dc1}, {5b7ebadd-1e47-4280-a235-b4ec91dd930d}, {5b90ae54-5bce-4085-b438-90190f946062}, {5c461d4f-673b-4d32-b62d-cd21a43c00f6}, {5cd912a8-3b52-4ad6-bf60-cb66e513237e}, {5ee81608-9021-4fb1-b276-aa63c5961622}, {60be96b5-d15c-4a4d-9759-8f5445324446}, {6125aa47-d121-415d-a89b-f15148bf9d0b}, {622ec558-9840-4205-891d-4a2634644068}, {62d7aca9-cc1f-4344-b18d-f1495ca856e9}, {6416f4e1-ff1a-473c-8738-1a4e375d57c6}, {67e86827-1a5a-4168-872e-5df95f766c3a}, {6b1b0bdb-eb7d-4211-b39d-9d18359bd2c0}, {6e36f607-6df1-43cd-9b8e-e0561c1caa88}, {6eae9b6a-a9e7-4d02-97d5-335717b31b85}, {730cdf42-e686-4ad5-8dd6-75d8647a9025}, {79861264-de21-4dab-b9f6-586a7ae6604c}, {7d9eca41-41b6-40d6-b5fa-d4fd55ed992a}, {7de34c94-33c0-4428-a158-8b542e0d52ad}, {7f101730-f13d-4787-87ff-e4c51b06fb20}, {7f399364-504d-4288-bbf7-309ee0786f8d}, {7f40d785-643a-49e3-b36f-7a95eab0a89c}, {7f4169f5-3aff-4249-b70c-1ebb7cb8c6bb}, {827b1adb-e2de-4c36-9e1f-6b5cd872d77c}, {82ea7607-0650-4516-84e7-d936e5536f69}, {85cf17db-9d5c-49ca-9807-e75a3ac781e7}, {87cdcf85-2c03-44ed-bb58-aadd7aa80ca3}, {88a79634-37b1-4c85-9df4-346b07b4da89}, {8b0babe0-10d7-4331-ada5-7b8e4b42dc29}, {8b0dc3c0-ed3b-4b39-84bb-45a1db55440d}, {8b299520-b23f-480f-9176-c38b62764f95}, {8b705a0c-85ce-425f-b09c-b9a6f0eaf204}, {8f0155eb-854b-458d-b2c0-e5b585af3195}, {919479c3-9eb1-472c-9a13-96dadbbc8f5f}, {97981586-4d13-478c-8c0e-d098c456dd27}, {9900ba21-4b0e-4ff5-83ee-9659c9bd4579}, {9adbad3a-3e9c-4297-9e6e-7444c13411df}, {9b2c5a22-9c87-42d2-8f95-286eaacce114}, {9ba1738a-ad3c-4f5e-bbdd-95255c340385}, {9d889484-890b-496a-95ab-7fae0becd2d4}, {a14f6f57-4b20-43ec-9bba-435914373c6c}, {a288cb47-07e4-482e-81d2-8e024fcf55e3}, {a416955c-43c8-48ac-b925-b9d9d24c16dc}, {a8affe0b-28e7-4655-8c05-8cd554c5ef66}, {ad6dc06c-4dff-465f-9ff9-292da516572e}, {ad9d1ec8-67fd-4ed9-a744-9debd0337f58}, {ae21569c-f362-4771-bd69-de8254601061}, {ae3a5a50-50d2-46d9-aed4-8bc565afaeef}, {b04ba7b1-4ee1-4b0f-b95d-e96894c3f679}, {b118b64b-5ad9-41f8-8269-52312616cc1b}, {b3b12d75-6cb7-4377-b6df-f3bf79493a28}, {b3e13897-7a8d-4756-8ee1-f0b89033aedf}, {b426b3e3-811a-4f31-b347-52661636dede}, {b4cd9fb5-acc6-445f-989c-77eb9cb648de}, {b6410a59-d11f-4aef-9155-4c07b2cc3610}, {b67462ba-8165-4880-93c0-3706e0964dbd}, {b79ebb86-1026-479f-992d-ed44963af49a}, {b855c1ba-f508-4df1-8a32-dc5a88d8a5db}, {b9811216-ef3d-4420-ab12-eab63617fd6c}, {ba43b52b-edef-4f45-a82e-9487ddd3acf9}, {ba649967-98e5-4bbe-bbf6-e21096bfa225}, {bd00765f-0aa7-4a27-abfe-11dfb87893de}, {c2a2c636-4ad9-4506-8ca8-75fad99ab2fa}, {c3dfeefe-ded6-4b53-9de8-bfac26dfeb49}, {c4bd1a33-1096-4358-85be-d105b3afba17}, {c4f9901c-f62d-4c8b-80b5-e1cfe8d7c384}, {c50d27fd-81e3-46f0-ab8e-dc41acaebbbf}, {c9a1b2e1-ebf2-4538-a3a9-36db44102c1e}, {cbb88c7c-0003-421f-9347-b971fb6da406}, {cc24ede3-1144-4a1f-8b76-9bd8917c50d4}, {d13baede-f78b-464a-ac80-242e0696afe2}, {d2578ba4-a3d7-4c9b-b011-19c647b26a9b}, {d2ac700a-6e17-415d-a5e1-04dc89f4fdb8}, {d3fa191e-6093-4541-9672-12806273b834}, {d54cbc6f-7dda-41cc-941d-e5f7b3fdb718}, {d57c99c7-1ced-48bc-b775-29f8db0fd05e}, {d9671eca-0c08-4eb9-bd5f-e6ca5dffcced}, {d98ccc10-98d4-48e0-9aa7-b3f85e441a93}, {dca2a851-b16f-477f-b907-38c27b8f5449}, {dca4bf5b-b8fd-4ec6-b3d3-93a1b72ba5f3}, {dd3cf0cc-dc4e-43dc-bab0-156dda68cf6f}, {ddbb0a94-6db9-4b90-8f7e-dd6c1d5038ac}, {ddfddf62-66c2-434a-8b20-2b52029224ff}, {df5ed8b9-a666-4d85-ab0d-464006386edb}, {e26cb574-22e7-472e-a24a-d74b80636255}, {e29dc895-a848-42c0-b874-c18dcdebb745}, {e43a209e-c841-4cdd-819e-bfa24b2194b4}, {e6784bf8-2583-476f-826e-a280ce9a5dd6}, {e6e59ca6-c20b-4795-9abb-fe3bb5e97c16}, {e7aeb785-6748-407f-9a39-0e93aa14436e}, {e8c598f3-ed93-4f82-9ff4-53ed79b9c747}, {e9cd9453-6d5f-4aa9-9a7d-a56c026b6863}, {ecebc6ff-d546-4775-be7c-50eff6897bfa}, {ee8d1aa7-c53b-4985-b30a-7222a58d8c75}, {eea00398-2ae9-463e-803d-a3b837361d92}, {f2fa52c0-d3ff-4e59-9d89-8832e3a93e73}, {f39bcd1e-4b4c-4e0a-9741-17d736d07031}, {f44c8774-5e13-4896-960b-8ba2e62c9fb9}, {f7b680bb-84b7-411f-9b18-8082c10c3c9b}, {f8fd3357-fa81-4879-8e45-207be9eb2424}, {fb324aef-1cc9-4bd1-ba50-37d1d10bafcd}</td></tr></tbody></table>"
      ],
      "text/plain": [
       "Name        : /GEOSCIENCE/Data\n",
       "Type        : zarr.hierarchy.Group\n",
       "Read-only   : False\n",
       "Store type  : fsspec.mapping.FSMap\n",
       "No. members : 164\n",
       "No. arrays  : 0\n",
       "No. groups  : 164\n",
       "Groups      : {00e6c2c7-eefe-4618-b9e6-3fc08177b96b},\n",
       "            : {025ac2f5-7bc7-4e59-a489-0c337d8b40f9}, {033923cb-\n",
       "            : ca1d-4a38-ab2d-efe79c8aec75},\n",
       "            : {04e8731c-7a1a-4892-821e-8503de0f88b4},\n",
       "            : {069c898e-553c-400e-8b3f-06e6103dfb73},\n",
       "            : {06f97b0b-80a1-4ba9-9cb2-df10e77ca0e4},\n",
       "            : {0aab3744-f5fb-4425-aa48-28e08c832a74},\n",
       "            : {0b3c983a-bc93-479b-b115-5e1fabfa2547},\n",
       "            : {0bc10125-95ed-45c4-bdde-4a229f80f127},\n",
       "            : {0e12eee0-20af-4fdd-b1af-f59a88f21112},\n",
       "            : {109b38b4-ce97-46c1-86e5-a474e034a8af},\n",
       "            : {1231dc31-2708-4d69-96ec-b71f2333f0c7},\n",
       "            : {12f1d3df-4067-4595-9a5c-3a0624444f93}, {13cbfd16-70a3-4b92-97ad-\n",
       "            : ac5ee1650071}, {17636e0d-eeb7-4eaa-a0d0-948c70a13a99},\n",
       "            : {18d0afff-3053-447c-a978-960c550c7bb0},\n",
       "            : {193447e1-bab7-42ba-a9f6-f1d359850d27},\n",
       "            : {1c305355-960a-4273-830b-8eb67e3d0bbb},\n",
       "            : {1ca2ea4a-0c09-4b7b-9ae3-133e54a06ccf}, {1ea96c38-58e7-4d7f-acef-\n",
       "            : dd674024445e}, {2025c3ec-2e14-4fae-9d6d-5683c0332740},\n",
       "            : {22520f8c-5247-49ba-905f-23e0bf92384d},\n",
       "            : {226a6375-984c-4c7f-8aaf-d727f9ad9d7f},\n",
       "            : {23c18a48-be93-4010-b354-ceb057bd8712},\n",
       "            : {24001da4-5ea6-4574-a288-2f52108ca5aa},\n",
       "            : {25b66db6-a1c9-4994-8533-4749d76c8c55},\n",
       "            : {26824c05-6992-4024-9dae-46129d723ac3},\n",
       "            : {28a77cdd-a024-45a9-9d03-2fbb786e0aaa},\n",
       "            : {28aefc21-3778-4dc1-8b25-63bb6f4e13ad}, {290117af-\n",
       "            : aa4f-452b-bcc9-47a349d20666},\n",
       "            : {2b862ea1-ea82-443d-bfa4-7cfcf8420001},\n",
       "            : {2c74c39d-8971-48fa-8014-66bbd794dd60},\n",
       "            : {2ca89aaa-a906-49d7-bb63-7e53acb4eb44},\n",
       "            : {2d0c1fbe-5649-40bd-8b77-86a5b3011ee4},\n",
       "            : {2f5fcd4b-865b-4403-86fd-709fa4a3285e},\n",
       "            : {2f768724-f035-4470-8e88-feec32e90d25},\n",
       "            : {31478a65-46e5-4d18-8bec-c7542e0641a0},\n",
       "            : {3158da0d-0159-47f4-81a4-dd11a66fedad},\n",
       "            : {326b7a7f-3ea3-4e12-986b-458f22ed4006},\n",
       "            : {38017109-cae5-4574-902c-7aa35e13775a},\n",
       "            : {3b3a04ad-1ee4-4d98-a903-8708befca202},\n",
       "            : {3be07179-30c9-4455-9e84-8706aa11f7f7}, {3c9050ce-\n",
       "            : fa4c-4b19-ad6f-1d9dc1262725},\n",
       "            : {3f0d56d1-9e16-4fe7-9e76-6c303d68ef0b}, {3fe2ffb8-d2a7-49f5-b9ef-\n",
       "            : aeb1341e94dc}, {42d17a4d-1a78-4dbd-bfbb-97edcedb10c2},\n",
       "            : {43282a8f-8a05-4199-b9d2-475e9ffef5ae},\n",
       "            : {4389f6e9-39b1-4702-9b1b-9c373b62b5ab},\n",
       "            : {452ae902-926a-4024-84d7-666368fad120},\n",
       "            : {45728055-d3c5-4c8a-9055-f9c43fb695ed},\n",
       "            : {4584383c-c504-44c1-992e-e3c130aba627},\n",
       "            : {49bf2f3f-d72f-421a-9562-23ca29b8596b},\n",
       "            : {4b12b0b9-ed53-4bb5-8fa6-a4cd54ae629e},\n",
       "            : {4c26bb3a-6671-4479-92d3-ceeaabc10d95},\n",
       "            : {4dc7abea-2dc5-4405-b5e7-392a7a8b8255},\n",
       "            : {5119b52e-4d7f-4ca0-93e6-125be021daba},\n",
       "            : {5273f614-da35-4eab-b9b1-b0ead597bfc7},\n",
       "            : {5366abc1-b0e1-4acc-a3a2-5898f43aad99},\n",
       "            : {5462f485-c3b6-4062-a9da-7859d766d416},\n",
       "            : {5474992e-9351-40ac-8ba0-a7e663bbbdd6},\n",
       "            : {549c3071-830f-47d6-a6ad-e10c425a6488}, {55bbe6cd-\n",
       "            : fdf0-4edd-9594-d66fece51657},\n",
       "            : {58ae4583-567b-4281-92c4-ed20bc60a73e},\n",
       "            : {5acd4af9-680d-4903-a5fd-a93e84987dc1},\n",
       "            : {5b7ebadd-1e47-4280-a235-b4ec91dd930d},\n",
       "            : {5b90ae54-5bce-4085-b438-90190f946062},\n",
       "            : {5c461d4f-673b-4d32-b62d-cd21a43c00f6},\n",
       "            : {5cd912a8-3b52-4ad6-bf60-cb66e513237e},\n",
       "            : {5ee81608-9021-4fb1-b276-aa63c5961622},\n",
       "            : {60be96b5-d15c-4a4d-9759-8f5445324446},\n",
       "            : {6125aa47-d121-415d-a89b-f15148bf9d0b},\n",
       "            : {622ec558-9840-4205-891d-4a2634644068},\n",
       "            : {62d7aca9-cc1f-4344-b18d-f1495ca856e9},\n",
       "            : {6416f4e1-ff1a-473c-8738-1a4e375d57c6},\n",
       "            : {67e86827-1a5a-4168-872e-5df95f766c3a}, {6b1b0bdb-\n",
       "            : eb7d-4211-b39d-9d18359bd2c0},\n",
       "            : {6e36f607-6df1-43cd-9b8e-e0561c1caa88},\n",
       "            : {6eae9b6a-a9e7-4d02-97d5-335717b31b85},\n",
       "            : {730cdf42-e686-4ad5-8dd6-75d8647a9025},\n",
       "            : {79861264-de21-4dab-b9f6-586a7ae6604c},\n",
       "            : {7d9eca41-41b6-40d6-b5fa-d4fd55ed992a},\n",
       "            : {7de34c94-33c0-4428-a158-8b542e0d52ad},\n",
       "            : {7f101730-f13d-4787-87ff-e4c51b06fb20},\n",
       "            : {7f399364-504d-4288-bbf7-309ee0786f8d},\n",
       "            : {7f40d785-643a-49e3-b36f-7a95eab0a89c},\n",
       "            : {7f4169f5-3aff-4249-b70c-1ebb7cb8c6bb},\n",
       "            : {827b1adb-e2de-4c36-9e1f-6b5cd872d77c},\n",
       "            : {82ea7607-0650-4516-84e7-d936e5536f69},\n",
       "            : {85cf17db-9d5c-49ca-9807-e75a3ac781e7}, {87cdcf85-2c03-44ed-\n",
       "            : bb58-aadd7aa80ca3}, {88a79634-37b1-4c85-9df4-346b07b4da89},\n",
       "            : {8b0babe0-10d7-4331-ada5-7b8e4b42dc29},\n",
       "            : {8b0dc3c0-ed3b-4b39-84bb-45a1db55440d},\n",
       "            : {8b299520-b23f-480f-9176-c38b62764f95},\n",
       "            : {8b705a0c-85ce-425f-b09c-b9a6f0eaf204},\n",
       "            : {8f0155eb-854b-458d-b2c0-e5b585af3195},\n",
       "            : {919479c3-9eb1-472c-9a13-96dadbbc8f5f},\n",
       "            : {97981586-4d13-478c-8c0e-d098c456dd27},\n",
       "            : {9900ba21-4b0e-4ff5-83ee-9659c9bd4579},\n",
       "            : {9adbad3a-3e9c-4297-9e6e-7444c13411df},\n",
       "            : {9b2c5a22-9c87-42d2-8f95-286eaacce114},\n",
       "            : {9ba1738a-ad3c-4f5e-bbdd-95255c340385},\n",
       "            : {9d889484-890b-496a-95ab-7fae0becd2d4},\n",
       "            : {a14f6f57-4b20-43ec-9bba-435914373c6c},\n",
       "            : {a288cb47-07e4-482e-81d2-8e024fcf55e3},\n",
       "            : {a416955c-43c8-48ac-b925-b9d9d24c16dc},\n",
       "            : {a8affe0b-28e7-4655-8c05-8cd554c5ef66},\n",
       "            : {ad6dc06c-4dff-465f-9ff9-292da516572e},\n",
       "            : {ad9d1ec8-67fd-4ed9-a744-9debd0337f58},\n",
       "            : {ae21569c-f362-4771-bd69-de8254601061},\n",
       "            : {ae3a5a50-50d2-46d9-aed4-8bc565afaeef},\n",
       "            : {b04ba7b1-4ee1-4b0f-b95d-e96894c3f679},\n",
       "            : {b118b64b-5ad9-41f8-8269-52312616cc1b},\n",
       "            : {b3b12d75-6cb7-4377-b6df-f3bf79493a28},\n",
       "            : {b3e13897-7a8d-4756-8ee1-f0b89033aedf},\n",
       "            : {b426b3e3-811a-4f31-b347-52661636dede},\n",
       "            : {b4cd9fb5-acc6-445f-989c-77eb9cb648de},\n",
       "            : {b6410a59-d11f-4aef-9155-4c07b2cc3610},\n",
       "            : {b67462ba-8165-4880-93c0-3706e0964dbd},\n",
       "            : {b79ebb86-1026-479f-992d-ed44963af49a},\n",
       "            : {b855c1ba-f508-4df1-8a32-dc5a88d8a5db},\n",
       "            : {b9811216-ef3d-4420-ab12-eab63617fd6c},\n",
       "            : {ba43b52b-edef-4f45-a82e-9487ddd3acf9}, {ba649967-98e5-4bbe-\n",
       "            : bbf6-e21096bfa225}, {bd00765f-0aa7-4a27-abfe-11dfb87893de},\n",
       "            : {c2a2c636-4ad9-4506-8ca8-75fad99ab2fa}, {c3dfeefe-\n",
       "            : ded6-4b53-9de8-bfac26dfeb49},\n",
       "            : {c4bd1a33-1096-4358-85be-d105b3afba17},\n",
       "            : {c4f9901c-f62d-4c8b-80b5-e1cfe8d7c384},\n",
       "            : {c50d27fd-81e3-46f0-ab8e-dc41acaebbbf},\n",
       "            : {c9a1b2e1-ebf2-4538-a3a9-36db44102c1e},\n",
       "            : {cbb88c7c-0003-421f-9347-b971fb6da406},\n",
       "            : {cc24ede3-1144-4a1f-8b76-9bd8917c50d4},\n",
       "            : {d13baede-f78b-464a-ac80-242e0696afe2},\n",
       "            : {d2578ba4-a3d7-4c9b-b011-19c647b26a9b},\n",
       "            : {d2ac700a-6e17-415d-a5e1-04dc89f4fdb8},\n",
       "            : {d3fa191e-6093-4541-9672-12806273b834},\n",
       "            : {d54cbc6f-7dda-41cc-941d-e5f7b3fdb718},\n",
       "            : {d57c99c7-1ced-48bc-b775-29f8db0fd05e},\n",
       "            : {d9671eca-0c08-4eb9-bd5f-e6ca5dffcced},\n",
       "            : {d98ccc10-98d4-48e0-9aa7-b3f85e441a93},\n",
       "            : {dca2a851-b16f-477f-b907-38c27b8f5449},\n",
       "            : {dca4bf5b-b8fd-4ec6-b3d3-93a1b72ba5f3}, {dd3cf0cc-dc4e-43dc-\n",
       "            : bab0-156dda68cf6f}, {ddbb0a94-6db9-4b90-8f7e-dd6c1d5038ac},\n",
       "            : {ddfddf62-66c2-434a-8b20-2b52029224ff},\n",
       "            : {df5ed8b9-a666-4d85-ab0d-464006386edb},\n",
       "            : {e26cb574-22e7-472e-a24a-d74b80636255},\n",
       "            : {e29dc895-a848-42c0-b874-c18dcdebb745},\n",
       "            : {e43a209e-c841-4cdd-819e-bfa24b2194b4},\n",
       "            : {e6784bf8-2583-476f-826e-a280ce9a5dd6}, {e6e59ca6-c20b-4795-9abb-\n",
       "            : fe3bb5e97c16}, {e7aeb785-6748-407f-9a39-0e93aa14436e},\n",
       "            : {e8c598f3-ed93-4f82-9ff4-53ed79b9c747},\n",
       "            : {e9cd9453-6d5f-4aa9-9a7d-a56c026b6863},\n",
       "            : {ecebc6ff-d546-4775-be7c-50eff6897bfa},\n",
       "            : {ee8d1aa7-c53b-4985-b30a-7222a58d8c75},\n",
       "            : {eea00398-2ae9-463e-803d-a3b837361d92},\n",
       "            : {f2fa52c0-d3ff-4e59-9d89-8832e3a93e73},\n",
       "            : {f39bcd1e-4b4c-4e0a-9741-17d736d07031},\n",
       "            : {f44c8774-5e13-4896-960b-8ba2e62c9fb9},\n",
       "            : {f7b680bb-84b7-411f-9b18-8082c10c3c9b},\n",
       "            : {f8fd3357-fa81-4879-8e45-207be9eb2424},\n",
       "            : {fb324aef-1cc9-4bd1-ba50-37d1d10bafcd}"
      ]
     },
     "execution_count": 21,
     "metadata": {},
     "output_type": "execute_result"
    }
   ],
   "source": [
    "z['GEOSCIENCE']['Data'].info"
   ]
  },
  {
   "cell_type": "code",
   "execution_count": 27,
   "id": "df4dcf18",
   "metadata": {},
   "outputs": [
    {
     "data": {
      "text/plain": [
       "<zarr.hierarchy.Group '/GEOSCIENCE/Data/{00e6c2c7-eefe-4618-b9e6-3fc08177b96b}'>"
      ]
     },
     "execution_count": 27,
     "metadata": {},
     "output_type": "execute_result"
    }
   ],
   "source": [
    "z['GEOSCIENCE']['Data']['{00e6c2c7-eefe-4618-b9e6-3fc08177b96b}']"
   ]
  },
  {
   "cell_type": "code",
   "execution_count": 32,
   "id": "26f6761a",
   "metadata": {},
   "outputs": [
    {
     "data": {
      "text/plain": [
       "<zarr.core.Array '/GEOSCIENCE/Data/{00e6c2c7-eefe-4618-b9e6-3fc08177b96b}/Data' (29359,) float64>"
      ]
     },
     "execution_count": 32,
     "metadata": {},
     "output_type": "execute_result"
    }
   ],
   "source": [
    "z['GEOSCIENCE']['Data']['{00e6c2c7-eefe-4618-b9e6-3fc08177b96b}']['Data']"
   ]
  },
  {
   "cell_type": "code",
   "execution_count": 29,
   "id": "93eecf74",
   "metadata": {},
   "outputs": [
    {
     "data": {
      "text/plain": [
       "(array([27540,     0,     0,     0,     0,     0,     0,     0,     0,\n",
       "         1819], dtype=int64),\n",
       " array([0.00000000e+00, 9.99999997e-08, 1.99999999e-07, 2.99999999e-07,\n",
       "        3.99999999e-07, 4.99999999e-07, 5.99999998e-07, 6.99999998e-07,\n",
       "        7.99999998e-07, 8.99999998e-07, 9.99999997e-07]))"
      ]
     },
     "execution_count": 29,
     "metadata": {},
     "output_type": "execute_result"
    }
   ],
   "source": [
    "import numpy as np\n",
    "np.histogram(z['GEOSCIENCE']['Data']['{00e6c2c7-eefe-4618-b9e6-3fc08177b96b}']['Data'])"
   ]
  },
  {
   "cell_type": "markdown",
   "id": "58b5bd93",
   "metadata": {},
   "source": [
    "After you have your output, you can use it locally or you could use online - a local example"
   ]
  },
  {
   "cell_type": "code",
   "execution_count": null,
   "id": "bb7199b8",
   "metadata": {},
   "outputs": [],
   "source": [
    "from tqdm import tqdm\n",
    "\n",
    "hist_dict = {}\n",
    "\n",
    "for root, dirs, files in os.walk(r'BananaSplits'):\n",
    "    for file in tqdm(files, total=len(files)):\n",
    "        m = fsspec.get_mapper(\"reference://\", fo=r'F:\\BananaSplits' + \"\\\\\" + file, remote_protocol=\"s3\", remote_options=r_opts)\n",
    "        z = zarr.open(m)\n",
    "\n",
    "        for x in z['GEOSCIENCE']['Data']:\n",
    "            if z['GEOSCIENCE']['Data'][x]['Data'].shape[0] > 10000 and z['GEOSCIENCE']['Data'][x]['Data'].shape[0] < 20000:\n",
    "                print(file, x)\n",
    "                print(np.histogram(z['GEOSCIENCE']['Data'][x]['Data']))\n",
    "                hist_dict[file] = np.histogram(z['GEOSCIENCE']['Data'][x]['Data'])"
   ]
  },
  {
   "cell_type": "markdown",
   "id": "334d4822",
   "metadata": {},
   "source": [
    "Then you get histograms as above.  This was a basic usecase I wanted, to look at a part of the dataset."
   ]
  },
  {
   "cell_type": "code",
   "execution_count": 38,
   "id": "f5c4be1e",
   "metadata": {},
   "outputs": [],
   "source": [
    "with open(r'F:\\BananaSplits\\blockmodel-histograms.pkl', 'wb') as f:\n",
    "    pickle.dump(hist_dict_set, f)"
   ]
  },
  {
   "cell_type": "markdown",
   "id": "a8870d35",
   "metadata": {},
   "source": [
    "An example of looking for some features you might want."
   ]
  },
  {
   "cell_type": "code",
   "execution_count": null,
   "id": "a6604bb6",
   "metadata": {},
   "outputs": [],
   "source": [
    "for x in z['GEOSCIENCE']['Groups'\n",
    "    for y in z['GEOSCIENCE']['Groups'][x]:\n",
    "        for a in z['GEOSCIENCE']['Groups'][x][y]:\n",
    "            for b in z['GEOSCIENCE']['Groups'][x][y][a]:\n",
    "                #if z['GEOSCIENCE']['Groups'][x][y][a][b].attrs['Name'] == 'BlockModel':\n",
    "                print('A')\n",
    "                print(z['GEOSCIENCE']['Groups'][x][y][a][b])\n",
    "                print('info')\n",
    "                print(z['GEOSCIENCE']['Groups'][x][y][a][b].info)\n",
    "                print(z['GEOSCIENCE']['Groups'][x][y][a][b])\n",
    "                print('attrs')\n",
    "                for key in z['GEOSCIENCE']['Groups'][x][y][a][b].attrs:\n",
    "                    print(key, z['GEOSCIENCE']['Groups'][x][y][a][b].attrs[key])\n",
    "                #print(z['GEOSCIENCE']['Groups'][x][y][a][b].attrs)\n",
    "                if 'BlockModel' in z['GEOSCIENCE']['Groups'][x][y][a][b].attrs:\n",
    "                    print('Vert')\n",
    "                print('\\n\\n')\n",
    "                #print(z['GEOSCIENCE']['Groups'][x][y][a][b].shape[0])"
   ]
  },
  {
   "cell_type": "code",
   "execution_count": null,
   "id": "1b36b1e4",
   "metadata": {},
   "outputs": [],
   "source": [
    "#example info\n",
    "A\n",
    "<zarr.core.Array '/GEOSCIENCE/Groups/{6c8aeb01-839f-4773-bac2-06a9227765fe}/Objects/{ddb791b1-67a3-46ad-9f29-24d16105a023}/Vertices' (625,) [('x', '<f8'), ('y', '<f8'), ('z', '<f8')]>\n",
    "info\n",
    "Name               : /GEOSCIENCE/Groups/{6c8aeb01-839f-4773-bac2-06a9227765fe}/O\n",
    "                   : bjects/{ddb791b1-67a3-46ad-9f29-24d16105a023}/Vertices\n",
    "Type               : zarr.core.Array\n",
    "Data type          : [('x', '<f8'), ('y', '<f8'), ('z', '<f8')]\n",
    "Shape              : (625,)\n",
    "Chunk shape        : (313,)\n",
    "Order              : C\n",
    "Read-only          : False\n",
    "Compressor         : Zlib(level=9)\n",
    "Store type         : fsspec.mapping.FSMap\n",
    "No. bytes          : 15000 (14.6K)\n",
    "Chunks initialized : 2/2"
   ]
  },
  {
   "cell_type": "markdown",
   "id": "f700ce10",
   "metadata": {},
   "source": [
    "To go further, and have a quick look at a Block Model without needing to download anything, or use any software."
   ]
  },
  {
   "cell_type": "code",
   "execution_count": null,
   "id": "08666c46",
   "metadata": {},
   "outputs": [
    {
     "name": "stderr",
     "output_type": "stream",
     "text": [
      "  0%|                                                                                         | 0/3045 [00:00<?, ?it/s]C:\\Users\\rscott\\AppData\\Local\\Continuum\\anaconda3\\envs\\stuartshelf\\lib\\site-packages\\pyvista\\jupyter\\notebook.py:60: UserWarning: Failed to use notebook backend: \n",
      "\n",
      "Please install `ipyvtklink` to use this feature: https://github.com/Kitware/ipyvtklink\n",
      "\n",
      "Falling back to a static output.\n",
      "  warnings.warn(\n"
     ]
    },
    {
     "data": {
      "image/png": "[encoded data removed]",
      "text/plain": [
       "<PIL.Image.Image image mode=RGB size=1024x768 at 0x1FEACCC9E80>"
      ]
     },
     "metadata": {},
     "output_type": "display_data"
    },
    {
     "name": "stderr",
     "output_type": "stream",
     "text": [
      "\r",
      " 58%|████████████████████████████████████████████▎                                | 1752/3045 [00:05<00:03, 323.84it/s]"
     ]
    }
   ],
   "source": [
    "def get_aws_credentials():\n",
    "    parser = configparser.RawConfigParser()\n",
    "    parser.read(os.path.expanduser('~/.aws/credentials'))\n",
    "    credentials = parser.items('serverlesscog')\n",
    "    all_credentials = {key.upper(): value for key, value in [*credentials]}\n",
    "    with contextlib.suppress(KeyError):\n",
    "        all_credentials[\"AWS_REGION\"] = all_credentials.pop(\"REGION\")\n",
    "    return all_credentials\n",
    "\n",
    "creds = get_aws_credentials()\n",
    "\n",
    "r_opts = {\n",
    "    \"key\": creds['AWS_ACCESS_KEY_ID'],\n",
    "    \"secret\": creds['AWS_SECRET_ACCESS_KEY'],\n",
    "    \"client_kwargs\": {\"region_name\": \"us-west-2\"},\n",
    "}\n",
    "\n",
    "\n",
    "#Use a CET Perceptually Uniform Rainbow colormap\n",
    "\n",
    "cet = pd.read_csv(r'C:\\Users\\rscott\\colorpComm256_CET_USE.txt',sep=' ',header=None,names=['val','r','g','b'])\n",
    "cet['r'] = cet['r']/255\n",
    "cet['g'] = cet['g']/255\n",
    "cet['b'] = cet['b']/255\n",
    "cet['a'] = 1.0\n",
    "del cet['val']\n",
    "\n",
    "colorarray = np.asarray(cet[['r','g','b','a']])\n",
    "cmapCET = ListedColormap(colorarray)\n",
    "\n",
    "s3 = s3fs.S3FileSystem(profile='serverlesscog')\n",
    "\n",
    "r_opts = {\n",
    "    \"key\": creds['AWS_ACCESS_KEY_ID'],\n",
    "    \"secret\": creds['AWS_SECRET_ACCESS_KEY'],\n",
    "    \"client_kwargs\": {\"region_name\": \"us-west-2\"},\n",
    "}\n",
    "\n",
    "count0 = 1752\n",
    "\n",
    "\n",
    "for root, dirs, files in os.walk(r'F:\\BananaSplits'):\n",
    "    for file in tqdm(files, total=len(files)):\n",
    "        count = count + 1\n",
    "        if count < count0:\n",
    "            continue\n",
    "        m = fsspec.get_mapper(\"reference://\", fo=r'F:\\BananaSplits' + \"\\\\\" + file, remote_protocol=\"s3\", remote_options=r_opts)\n",
    "        z = zarr.open(m)\n",
    "\n",
    "        coords_dict = {}\n",
    "        coords_dict['z'] = []\n",
    "        for i in range(24):\n",
    "            coords_dict['z'].append(-3400 + i*200)\n",
    "\n",
    "        continueflag = 1\n",
    "        for x in z['GEOSCIENCE']['Groups']:\n",
    "            if continueflag:\n",
    "                for y in z['GEOSCIENCE']['Groups'][x]:\n",
    "                    for a in z['GEOSCIENCE']['Groups'][x]['Objects']:\n",
    "                        for b in z['GEOSCIENCE']['Groups'][x]['Objects'][a]:\n",
    "                            if 'Vertices' in b:\n",
    "\n",
    "                                coords_dict['x'] = np.unique(z['GEOSCIENCE']['Groups'][x]['Objects'][a]['Vertices']['x'])\n",
    "                                coords_dict['y'] = np.unique(z['GEOSCIENCE']['Groups'][x]['Objects'][a]['Vertices']['y'])\n",
    "                                continueflag = 0\n",
    "                                break\n",
    "                                \n",
    "        for x in z['GEOSCIENCE']['Data']:\n",
    "            if z['GEOSCIENCE']['Data'][x]['Data'].shape[0] < 20000 and z['GEOSCIENCE']['Data'][x]['Data'].shape[0] >10000:\n",
    "                coords_dict['data'] = z['GEOSCIENCE']['Data'][x]['Data'][:]\n",
    "                break\n",
    "\n",
    "        #make a grid for plotting in PyVista\n",
    "        \n",
    "        grid = pv.UniformGrid()\n",
    "        grid.dimensions=np.array( [25, 25, 24] ) + 1\n",
    "        grid.origin= (np.min(coords_dict['x']),np.min(coords_dict['y']), np.min(coords_dict['z']))\n",
    "        grid.spacing = (200,200,200)\n",
    "        grid[\"density\"] = coords_dict['data'].reshape(25,25,24).flatten(order=\"F\")\n",
    "\n",
    "        index = file.replace('.json','')\n",
    "        threshold = 2.79\n",
    "        thres = grid.threshold(threshold)\n",
    "\n",
    "        try:\n",
    "        \n",
    "            p = pv.Plotter(notebook=True)\n",
    "            p.add_title(\"Banana Splits \" + str(index), color=\"green\", font=\"arial\")\n",
    "\n",
    "            p.add_mesh(mesh=thres, clim=[threshold,4], cmap=cmapCET, opacity=0.67)\n",
    "            p.show_grid(color='black')\n",
    "            p.set_background(color='brown')\n",
    "            p.screenshot(r'F:\\BananaSplits' + \"\\\\\" + \"BS_\" + str(index) +  '.png')\n",
    "            p.show()\n",
    "            p.deep_clean()\n",
    "            \n",
    "        except Exception as plotE:\n",
    "            print(\"Nothing of interest in: \", index, plotE)\n",
    "            with open(r'F:\\BananaSplits' + \"\\\\\" + \"BananaSplits_\" + str(index) +  '.txt', 'w') as fn:\n",
    "                fn.write(\"Nothing of Interest in: \" + index)\n",
    "\n",
    "        #save information for later for fast resuse as desire    \n",
    "        with open('F:\\BananaSplits\\BS_' + str(index) + '_coords_dict.pkl', 'wb') as f:\n",
    "            pickle.dump(coords_dict, f)\n",
    "            \n",
    "        del p\n",
    "        del coords_dict\n",
    "        del z\n",
    "        del grid\n",
    "        del thres\n",
    "        del m"
   ]
  }
 ],
 "metadata": {
  "kernelspec": {
   "display_name": "Python [conda env:stuartshelf]",
   "language": "python",
   "name": "conda-env-stuartshelf-py"
  },
  "language_info": {
   "codemirror_mode": {
    "name": "ipython",
    "version": 3
   },
   "file_extension": ".py",
   "mimetype": "text/x-python",
   "name": "python",
   "nbconvert_exporter": "python",
   "pygments_lexer": "ipython3",
   "version": "3.9.10"
  }
 },
 "nbformat": 4,
 "nbformat_minor": 5
}
